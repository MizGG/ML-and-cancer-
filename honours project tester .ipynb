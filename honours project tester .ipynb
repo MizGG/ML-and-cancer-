{
 "cells": [
  {
   "cell_type": "markdown",
   "id": "091aa117",
   "metadata": {},
   "source": [
    "AI and Machine Learning Applications in Predicting Personalised Needs for Cancer Patients"
   ]
  },
  {
   "cell_type": "code",
   "execution_count": 5,
   "id": "4af4da78",
   "metadata": {},
   "outputs": [],
   "source": [
    "#cells to run all libraries\n",
    "\n",
    "import pandas as pd\n",
    "import matplotlib.pyplot as plt\n",
    "import seaborn as sns\n",
    "import numpy as np\n",
    "from sklearn.model_selection import cross_val_score\n",
    "import pandas as pd\n",
    "from sklearn.model_selection import train_test_split\n",
    "from sklearn.preprocessing import LabelEncoder\n",
    "from sklearn.ensemble import RandomForestClassifier\n",
    "from sklearn.metrics import accuracy_score, precision_score, recall_score, f1_score\n",
    "from sklearn.preprocessing import MinMaxScaler, LabelEncoder\n",
    "from sklearn.metrics import classification_report"
   ]
  },
  {
   "cell_type": "markdown",
   "id": "de32d672",
   "metadata": {},
   "source": [
    "loading the datasets\n"
   ]
  },
  {
   "cell_type": "code",
   "execution_count": 6,
   "id": "1e14c647",
   "metadata": {},
   "outputs": [
    {
     "name": "stdout",
     "output_type": "stream",
     "text": [
      "  Patient Id  Age  Gender  Air Pollution  Alcohol use  Dust Allergy  \\\n",
      "0         P1   33       1              2            4             5   \n",
      "1        P10   17       1              3            1             5   \n",
      "2       P100   35       1              4            5             6   \n",
      "3      P1000   37       1              7            7             7   \n",
      "4       P101   46       1              6            8             7   \n",
      "\n",
      "   OccuPational Hazards  Genetic Risk  chronic Lung Disease  Balanced Diet  \\\n",
      "0                     4             3                     2              2   \n",
      "1                     3             4                     2              2   \n",
      "2                     5             5                     4              6   \n",
      "3                     7             6                     7              7   \n",
      "4                     7             7                     6              7   \n",
      "\n",
      "   ...  Fatigue  Weight Loss  Shortness of Breath  Wheezing  \\\n",
      "0  ...        3            4                    2         2   \n",
      "1  ...        1            3                    7         8   \n",
      "2  ...        8            7                    9         2   \n",
      "3  ...        4            2                    3         1   \n",
      "4  ...        3            2                    4         1   \n",
      "\n",
      "   Swallowing Difficulty  Clubbing of Finger Nails  Frequent Cold  Dry Cough  \\\n",
      "0                      3                         1              2          3   \n",
      "1                      6                         2              1          7   \n",
      "2                      1                         4              6          7   \n",
      "3                      4                         5              6          7   \n",
      "4                      4                         2              4          2   \n",
      "\n",
      "   Snoring   Level  \n",
      "0        4     Low  \n",
      "1        2  Medium  \n",
      "2        2    High  \n",
      "3        5    High  \n",
      "4        3    High  \n",
      "\n",
      "[5 rows x 25 columns]\n"
     ]
    }
   ],
   "source": [
    "file_path = \"/Users/mizzy/Downloads/Honours project /Datasets /cancer patient lifestyle.xlsx\"\n",
    "data = pd.read_excel(file_path)\n",
    "\n",
    "\n",
    "print(data.head())"
   ]
  },
  {
   "cell_type": "code",
   "execution_count": 7,
   "id": "73868d6e",
   "metadata": {},
   "outputs": [
    {
     "name": "stdout",
     "output_type": "stream",
     "text": [
      "Missing Values:\n",
      " Patient Id                  0\n",
      "Age                         0\n",
      "Gender                      0\n",
      "Air Pollution               0\n",
      "Alcohol use                 0\n",
      "Dust Allergy                0\n",
      "OccuPational Hazards        0\n",
      "Genetic Risk                0\n",
      "chronic Lung Disease        0\n",
      "Balanced Diet               0\n",
      "Obesity                     0\n",
      "Smoking                     0\n",
      "Passive Smoker              0\n",
      "Chest Pain                  0\n",
      "Coughing of Blood           0\n",
      "Fatigue                     0\n",
      "Weight Loss                 0\n",
      "Shortness of Breath         0\n",
      "Wheezing                    0\n",
      "Swallowing Difficulty       0\n",
      "Clubbing of Finger Nails    0\n",
      "Frequent Cold               0\n",
      "Dry Cough                   0\n",
      "Snoring                     0\n",
      "Level                       0\n",
      "dtype: int64\n",
      "\n",
      "Duplicate Rows: 0\n"
     ]
    }
   ],
   "source": [
    "# Check for missing values and duplicates\n",
    "missing_values = data.isnull().sum()\n",
    "duplicate_rows = data.duplicated().sum()\n",
    "\n",
    "print(\"Missing Values:\\n\", missing_values)\n",
    "print(\"\\nDuplicate Rows:\", duplicate_rows)\n"
   ]
  },
  {
   "cell_type": "markdown",
   "id": "6fc6a9f2",
   "metadata": {},
   "source": []
  }
 ],
 "metadata": {
  "kernelspec": {
   "display_name": "Python 3 (ipykernel)",
   "language": "python",
   "name": "python3"
  },
  "language_info": {
   "codemirror_mode": {
    "name": "ipython",
    "version": 3
   },
   "file_extension": ".py",
   "mimetype": "text/x-python",
   "name": "python",
   "nbconvert_exporter": "python",
   "pygments_lexer": "ipython3",
   "version": "3.11.5"
  }
 },
 "nbformat": 4,
 "nbformat_minor": 5
}
